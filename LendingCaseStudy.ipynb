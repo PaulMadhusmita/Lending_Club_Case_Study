{
 "cells": [
  {
   "cell_type": "code",
   "execution_count": 148,
   "id": "b62cb260",
   "metadata": {},
   "outputs": [],
   "source": [
    "## importing required libraries\n",
    "import numpy as np\n",
    "import pandas as pd\n",
    "import matplotlib.pyplot as plt #Data Visualization Libraries\n",
    "import seaborn as sns #Data Visualization Libraries\n",
    "import warnings\n",
    "warnings.filterwarnings('ignore')"
   ]
  },
  {
   "cell_type": "code",
   "execution_count": 149,
   "id": "2559745f",
   "metadata": {},
   "outputs": [],
   "source": [
    "#loading the data\n",
    "loan = pd.read_csv(\"loan.csv\")"
   ]
  },
  {
   "cell_type": "code",
   "execution_count": 150,
   "id": "368caaaf",
   "metadata": {},
   "outputs": [
    {
     "data": {
      "text/html": [
       "<div>\n",
       "<style scoped>\n",
       "    .dataframe tbody tr th:only-of-type {\n",
       "        vertical-align: middle;\n",
       "    }\n",
       "\n",
       "    .dataframe tbody tr th {\n",
       "        vertical-align: top;\n",
       "    }\n",
       "\n",
       "    .dataframe thead th {\n",
       "        text-align: right;\n",
       "    }\n",
       "</style>\n",
       "<table border=\"1\" class=\"dataframe\">\n",
       "  <thead>\n",
       "    <tr style=\"text-align: right;\">\n",
       "      <th></th>\n",
       "      <th>id</th>\n",
       "      <th>member_id</th>\n",
       "      <th>loan_amnt</th>\n",
       "      <th>funded_amnt</th>\n",
       "      <th>funded_amnt_inv</th>\n",
       "      <th>term</th>\n",
       "      <th>int_rate</th>\n",
       "      <th>installment</th>\n",
       "      <th>grade</th>\n",
       "      <th>sub_grade</th>\n",
       "      <th>...</th>\n",
       "      <th>num_tl_90g_dpd_24m</th>\n",
       "      <th>num_tl_op_past_12m</th>\n",
       "      <th>pct_tl_nvr_dlq</th>\n",
       "      <th>percent_bc_gt_75</th>\n",
       "      <th>pub_rec_bankruptcies</th>\n",
       "      <th>tax_liens</th>\n",
       "      <th>tot_hi_cred_lim</th>\n",
       "      <th>total_bal_ex_mort</th>\n",
       "      <th>total_bc_limit</th>\n",
       "      <th>total_il_high_credit_limit</th>\n",
       "    </tr>\n",
       "  </thead>\n",
       "  <tbody>\n",
       "    <tr>\n",
       "      <th>0</th>\n",
       "      <td>1077501</td>\n",
       "      <td>1296599</td>\n",
       "      <td>5000</td>\n",
       "      <td>5000</td>\n",
       "      <td>4975.0</td>\n",
       "      <td>36 months</td>\n",
       "      <td>10.65%</td>\n",
       "      <td>162.87</td>\n",
       "      <td>B</td>\n",
       "      <td>B2</td>\n",
       "      <td>...</td>\n",
       "      <td>NaN</td>\n",
       "      <td>NaN</td>\n",
       "      <td>NaN</td>\n",
       "      <td>NaN</td>\n",
       "      <td>0.0</td>\n",
       "      <td>0.0</td>\n",
       "      <td>NaN</td>\n",
       "      <td>NaN</td>\n",
       "      <td>NaN</td>\n",
       "      <td>NaN</td>\n",
       "    </tr>\n",
       "    <tr>\n",
       "      <th>1</th>\n",
       "      <td>1077430</td>\n",
       "      <td>1314167</td>\n",
       "      <td>2500</td>\n",
       "      <td>2500</td>\n",
       "      <td>2500.0</td>\n",
       "      <td>60 months</td>\n",
       "      <td>15.27%</td>\n",
       "      <td>59.83</td>\n",
       "      <td>C</td>\n",
       "      <td>C4</td>\n",
       "      <td>...</td>\n",
       "      <td>NaN</td>\n",
       "      <td>NaN</td>\n",
       "      <td>NaN</td>\n",
       "      <td>NaN</td>\n",
       "      <td>0.0</td>\n",
       "      <td>0.0</td>\n",
       "      <td>NaN</td>\n",
       "      <td>NaN</td>\n",
       "      <td>NaN</td>\n",
       "      <td>NaN</td>\n",
       "    </tr>\n",
       "    <tr>\n",
       "      <th>2</th>\n",
       "      <td>1077175</td>\n",
       "      <td>1313524</td>\n",
       "      <td>2400</td>\n",
       "      <td>2400</td>\n",
       "      <td>2400.0</td>\n",
       "      <td>36 months</td>\n",
       "      <td>15.96%</td>\n",
       "      <td>84.33</td>\n",
       "      <td>C</td>\n",
       "      <td>C5</td>\n",
       "      <td>...</td>\n",
       "      <td>NaN</td>\n",
       "      <td>NaN</td>\n",
       "      <td>NaN</td>\n",
       "      <td>NaN</td>\n",
       "      <td>0.0</td>\n",
       "      <td>0.0</td>\n",
       "      <td>NaN</td>\n",
       "      <td>NaN</td>\n",
       "      <td>NaN</td>\n",
       "      <td>NaN</td>\n",
       "    </tr>\n",
       "    <tr>\n",
       "      <th>3</th>\n",
       "      <td>1076863</td>\n",
       "      <td>1277178</td>\n",
       "      <td>10000</td>\n",
       "      <td>10000</td>\n",
       "      <td>10000.0</td>\n",
       "      <td>36 months</td>\n",
       "      <td>13.49%</td>\n",
       "      <td>339.31</td>\n",
       "      <td>C</td>\n",
       "      <td>C1</td>\n",
       "      <td>...</td>\n",
       "      <td>NaN</td>\n",
       "      <td>NaN</td>\n",
       "      <td>NaN</td>\n",
       "      <td>NaN</td>\n",
       "      <td>0.0</td>\n",
       "      <td>0.0</td>\n",
       "      <td>NaN</td>\n",
       "      <td>NaN</td>\n",
       "      <td>NaN</td>\n",
       "      <td>NaN</td>\n",
       "    </tr>\n",
       "    <tr>\n",
       "      <th>4</th>\n",
       "      <td>1075358</td>\n",
       "      <td>1311748</td>\n",
       "      <td>3000</td>\n",
       "      <td>3000</td>\n",
       "      <td>3000.0</td>\n",
       "      <td>60 months</td>\n",
       "      <td>12.69%</td>\n",
       "      <td>67.79</td>\n",
       "      <td>B</td>\n",
       "      <td>B5</td>\n",
       "      <td>...</td>\n",
       "      <td>NaN</td>\n",
       "      <td>NaN</td>\n",
       "      <td>NaN</td>\n",
       "      <td>NaN</td>\n",
       "      <td>0.0</td>\n",
       "      <td>0.0</td>\n",
       "      <td>NaN</td>\n",
       "      <td>NaN</td>\n",
       "      <td>NaN</td>\n",
       "      <td>NaN</td>\n",
       "    </tr>\n",
       "  </tbody>\n",
       "</table>\n",
       "<p>5 rows × 111 columns</p>\n",
       "</div>"
      ],
      "text/plain": [
       "        id  member_id  loan_amnt  funded_amnt  funded_amnt_inv        term  \\\n",
       "0  1077501    1296599       5000         5000           4975.0   36 months   \n",
       "1  1077430    1314167       2500         2500           2500.0   60 months   \n",
       "2  1077175    1313524       2400         2400           2400.0   36 months   \n",
       "3  1076863    1277178      10000        10000          10000.0   36 months   \n",
       "4  1075358    1311748       3000         3000           3000.0   60 months   \n",
       "\n",
       "  int_rate  installment grade sub_grade  ... num_tl_90g_dpd_24m  \\\n",
       "0   10.65%       162.87     B        B2  ...                NaN   \n",
       "1   15.27%        59.83     C        C4  ...                NaN   \n",
       "2   15.96%        84.33     C        C5  ...                NaN   \n",
       "3   13.49%       339.31     C        C1  ...                NaN   \n",
       "4   12.69%        67.79     B        B5  ...                NaN   \n",
       "\n",
       "  num_tl_op_past_12m pct_tl_nvr_dlq  percent_bc_gt_75 pub_rec_bankruptcies  \\\n",
       "0                NaN            NaN               NaN                  0.0   \n",
       "1                NaN            NaN               NaN                  0.0   \n",
       "2                NaN            NaN               NaN                  0.0   \n",
       "3                NaN            NaN               NaN                  0.0   \n",
       "4                NaN            NaN               NaN                  0.0   \n",
       "\n",
       "  tax_liens tot_hi_cred_lim total_bal_ex_mort total_bc_limit  \\\n",
       "0       0.0             NaN               NaN            NaN   \n",
       "1       0.0             NaN               NaN            NaN   \n",
       "2       0.0             NaN               NaN            NaN   \n",
       "3       0.0             NaN               NaN            NaN   \n",
       "4       0.0             NaN               NaN            NaN   \n",
       "\n",
       "  total_il_high_credit_limit  \n",
       "0                        NaN  \n",
       "1                        NaN  \n",
       "2                        NaN  \n",
       "3                        NaN  \n",
       "4                        NaN  \n",
       "\n",
       "[5 rows x 111 columns]"
      ]
     },
     "execution_count": 150,
     "metadata": {},
     "output_type": "execute_result"
    }
   ],
   "source": [
    "#displaying the top 5 rows of the data\n",
    "loan.head()"
   ]
  },
  {
   "cell_type": "code",
   "execution_count": 151,
   "id": "0a7cab33",
   "metadata": {},
   "outputs": [
    {
     "data": {
      "text/plain": [
       "(39717, 111)"
      ]
     },
     "execution_count": 151,
     "metadata": {},
     "output_type": "execute_result"
    }
   ],
   "source": [
    "#checking the shape of the data\n",
    "loan.shape"
   ]
  },
  {
   "cell_type": "code",
   "execution_count": 152,
   "id": "cd4cd56c",
   "metadata": {},
   "outputs": [
    {
     "name": "stdout",
     "output_type": "stream",
     "text": [
      "<class 'pandas.core.frame.DataFrame'>\n",
      "RangeIndex: 39717 entries, 0 to 39716\n",
      "Columns: 111 entries, id to total_il_high_credit_limit\n",
      "dtypes: float64(74), int64(13), object(24)\n",
      "memory usage: 33.6+ MB\n"
     ]
    }
   ],
   "source": [
    "#checking the kind of data in the columns\n",
    "loan.info()"
   ]
  },
  {
   "cell_type": "markdown",
   "id": "91d5d1f2",
   "metadata": {},
   "source": [
    "### Missing Value Check"
   ]
  },
  {
   "cell_type": "code",
   "execution_count": 153,
   "id": "fd460305",
   "metadata": {
    "scrolled": true
   },
   "outputs": [
    {
     "data": {
      "text/plain": [
       "id                              0.000000\n",
       "member_id                       0.000000\n",
       "loan_amnt                       0.000000\n",
       "funded_amnt                     0.000000\n",
       "funded_amnt_inv                 0.000000\n",
       "                                 ...    \n",
       "tax_liens                       0.098195\n",
       "tot_hi_cred_lim               100.000000\n",
       "total_bal_ex_mort             100.000000\n",
       "total_bc_limit                100.000000\n",
       "total_il_high_credit_limit    100.000000\n",
       "Length: 111, dtype: float64"
      ]
     },
     "execution_count": 153,
     "metadata": {},
     "output_type": "execute_result"
    }
   ],
   "source": [
    "100*loan.isnull().mean()"
   ]
  },
  {
   "cell_type": "code",
   "execution_count": 154,
   "id": "f43c90ce",
   "metadata": {},
   "outputs": [],
   "source": [
    "# As observed there are a lot of columns with 100% null values, so dropping those columns as they wont add any value to the analysis\n",
    "loan.dropna(axis = 1, how = 'all', inplace = True)"
   ]
  },
  {
   "cell_type": "code",
   "execution_count": 155,
   "id": "26446785",
   "metadata": {},
   "outputs": [
    {
     "data": {
      "text/plain": [
       "(39717, 57)"
      ]
     },
     "execution_count": 155,
     "metadata": {},
     "output_type": "execute_result"
    }
   ],
   "source": [
    "#checking the same after dropping above columns\n",
    "loan.shape"
   ]
  },
  {
   "cell_type": "code",
   "execution_count": 156,
   "id": "90bf1622",
   "metadata": {},
   "outputs": [
    {
     "name": "stdout",
     "output_type": "stream",
     "text": [
      "id 39717\n",
      "member_id 39717\n",
      "loan_amnt 885\n",
      "funded_amnt 1041\n",
      "funded_amnt_inv 8205\n",
      "term 2\n",
      "int_rate 371\n",
      "installment 15383\n",
      "grade 7\n",
      "sub_grade 35\n",
      "emp_title 28820\n",
      "emp_length 11\n",
      "home_ownership 5\n",
      "annual_inc 5318\n",
      "verification_status 3\n",
      "issue_d 55\n",
      "loan_status 3\n",
      "pymnt_plan 1\n",
      "url 39717\n",
      "desc 26527\n",
      "purpose 14\n",
      "title 19615\n",
      "zip_code 823\n",
      "addr_state 50\n",
      "dti 2868\n",
      "delinq_2yrs 11\n",
      "earliest_cr_line 526\n",
      "inq_last_6mths 9\n",
      "mths_since_last_delinq 95\n",
      "mths_since_last_record 111\n",
      "open_acc 40\n",
      "pub_rec 5\n",
      "revol_bal 21711\n",
      "revol_util 1089\n",
      "total_acc 82\n",
      "initial_list_status 1\n",
      "out_prncp 1137\n",
      "out_prncp_inv 1138\n",
      "total_pymnt 37850\n",
      "total_pymnt_inv 37518\n",
      "total_rec_prncp 7976\n",
      "total_rec_int 35148\n",
      "total_rec_late_fee 1356\n",
      "recoveries 4040\n",
      "collection_recovery_fee 2616\n",
      "last_pymnt_d 101\n",
      "last_pymnt_amnt 34930\n",
      "next_pymnt_d 2\n",
      "last_credit_pull_d 106\n",
      "collections_12_mths_ex_med 1\n",
      "policy_code 1\n",
      "application_type 1\n",
      "acc_now_delinq 1\n",
      "chargeoff_within_12_mths 1\n",
      "delinq_amnt 1\n",
      "pub_rec_bankruptcies 3\n",
      "tax_liens 1\n"
     ]
    }
   ],
   "source": [
    "#checking the number of unique values in each column\n",
    "for i in loan.columns:\n",
    "    print(i, loan[i].nunique())"
   ]
  },
  {
   "cell_type": "code",
   "execution_count": 157,
   "id": "9483fa87",
   "metadata": {},
   "outputs": [
    {
     "name": "stdout",
     "output_type": "stream",
     "text": [
      "pymnt_plan ['n'] n    39717\n",
      "Name: pymnt_plan, dtype: int64\n",
      "initial_list_status ['f'] f    39717\n",
      "Name: initial_list_status, dtype: int64\n",
      "collections_12_mths_ex_med [ 0. nan] 0.0    39661\n",
      "Name: collections_12_mths_ex_med, dtype: int64\n",
      "policy_code [1] 1    39717\n",
      "Name: policy_code, dtype: int64\n",
      "acc_now_delinq [0] 0    39717\n",
      "Name: acc_now_delinq, dtype: int64\n",
      "chargeoff_within_12_mths [ 0. nan] 0.0    39661\n",
      "Name: chargeoff_within_12_mths, dtype: int64\n",
      "application_type ['INDIVIDUAL'] INDIVIDUAL    39717\n",
      "Name: application_type, dtype: int64\n",
      "pub_rec_bankruptcies [ 0.  1.  2. nan] 0.0    37339\n",
      "1.0     1674\n",
      "2.0        7\n",
      "Name: pub_rec_bankruptcies, dtype: int64\n",
      "tax_liens [ 0. nan] 0.0    39678\n",
      "Name: tax_liens, dtype: int64\n",
      "delinq_amnt [0] 0    39717\n",
      "Name: delinq_amnt, dtype: int64\n"
     ]
    }
   ],
   "source": [
    "# checking the columns having single/low unique values\n",
    "for i in ['pymnt_plan', \"initial_list_status\",'collections_12_mths_ex_med','policy_code','acc_now_delinq','chargeoff_within_12_mths','application_type','pub_rec_bankruptcies', 'tax_liens', 'delinq_amnt']:\n",
    "    print(i, loan[i].unique(), loan[i].value_counts())"
   ]
  },
  {
   "cell_type": "code",
   "execution_count": 158,
   "id": "de57e438",
   "metadata": {},
   "outputs": [],
   "source": [
    "#dropping these above columns as they are single valued or have high nan values\n",
    "\n",
    "loan.drop(['pymnt_plan','initial_list_status','collections_12_mths_ex_med','policy_code','acc_now_delinq','chargeoff_within_12_mths', 'application_type', 'pub_rec_bankruptcies', 'tax_liens', 'delinq_amnt'], axis = 1, inplace = True)\n"
   ]
  },
  {
   "cell_type": "code",
   "execution_count": 159,
   "id": "8167792b",
   "metadata": {},
   "outputs": [],
   "source": [
    "#dropping columns that are unique/descriptive for applicants and wont have any relation to the analysis\n",
    " \n",
    "loan.drop([\"id\", \"member_id\", \"url\",\"desc\",\"title\",\"emp_title\"], axis = 1, inplace = True)"
   ]
  },
  {
   "cell_type": "code",
   "execution_count": 160,
   "id": "5d1ece23",
   "metadata": {},
   "outputs": [],
   "source": [
    "loan[['addr_state','zip_code']].value_counts()\n",
    "# zip_code & addr_state might have played a role in deciding the risk but based on the data available, there seems no accurate relation can be linked\n",
    "# hence dropping these columns\n",
    "loan.drop([\"zip_code\",\"addr_state\"], axis = 1, inplace = True)"
   ]
  },
  {
   "cell_type": "code",
   "execution_count": 161,
   "id": "55046043",
   "metadata": {
    "scrolled": true
   },
   "outputs": [
    {
     "data": {
      "text/html": [
       "<div>\n",
       "<style scoped>\n",
       "    .dataframe tbody tr th:only-of-type {\n",
       "        vertical-align: middle;\n",
       "    }\n",
       "\n",
       "    .dataframe tbody tr th {\n",
       "        vertical-align: top;\n",
       "    }\n",
       "\n",
       "    .dataframe thead th {\n",
       "        text-align: right;\n",
       "    }\n",
       "</style>\n",
       "<table border=\"1\" class=\"dataframe\">\n",
       "  <thead>\n",
       "    <tr style=\"text-align: right;\">\n",
       "      <th></th>\n",
       "      <th>loan_amnt</th>\n",
       "      <th>funded_amnt</th>\n",
       "      <th>funded_amnt_inv</th>\n",
       "      <th>installment</th>\n",
       "      <th>annual_inc</th>\n",
       "      <th>dti</th>\n",
       "      <th>delinq_2yrs</th>\n",
       "      <th>inq_last_6mths</th>\n",
       "      <th>mths_since_last_delinq</th>\n",
       "      <th>mths_since_last_record</th>\n",
       "      <th>...</th>\n",
       "      <th>out_prncp</th>\n",
       "      <th>out_prncp_inv</th>\n",
       "      <th>total_pymnt</th>\n",
       "      <th>total_pymnt_inv</th>\n",
       "      <th>total_rec_prncp</th>\n",
       "      <th>total_rec_int</th>\n",
       "      <th>total_rec_late_fee</th>\n",
       "      <th>recoveries</th>\n",
       "      <th>collection_recovery_fee</th>\n",
       "      <th>last_pymnt_amnt</th>\n",
       "    </tr>\n",
       "  </thead>\n",
       "  <tbody>\n",
       "    <tr>\n",
       "      <th>count</th>\n",
       "      <td>39717.000000</td>\n",
       "      <td>39717.000000</td>\n",
       "      <td>39717.000000</td>\n",
       "      <td>39717.000000</td>\n",
       "      <td>3.971700e+04</td>\n",
       "      <td>39717.000000</td>\n",
       "      <td>39717.000000</td>\n",
       "      <td>39717.000000</td>\n",
       "      <td>14035.000000</td>\n",
       "      <td>2786.000000</td>\n",
       "      <td>...</td>\n",
       "      <td>39717.000000</td>\n",
       "      <td>39717.000000</td>\n",
       "      <td>39717.000000</td>\n",
       "      <td>39717.000000</td>\n",
       "      <td>39717.000000</td>\n",
       "      <td>39717.000000</td>\n",
       "      <td>39717.000000</td>\n",
       "      <td>39717.000000</td>\n",
       "      <td>39717.000000</td>\n",
       "      <td>39717.000000</td>\n",
       "    </tr>\n",
       "    <tr>\n",
       "      <th>mean</th>\n",
       "      <td>11219.443815</td>\n",
       "      <td>10947.713196</td>\n",
       "      <td>10397.448868</td>\n",
       "      <td>324.561922</td>\n",
       "      <td>6.896893e+04</td>\n",
       "      <td>13.315130</td>\n",
       "      <td>0.146512</td>\n",
       "      <td>0.869200</td>\n",
       "      <td>35.900962</td>\n",
       "      <td>69.698134</td>\n",
       "      <td>...</td>\n",
       "      <td>51.227887</td>\n",
       "      <td>50.989768</td>\n",
       "      <td>12153.596544</td>\n",
       "      <td>11567.149118</td>\n",
       "      <td>9793.348813</td>\n",
       "      <td>2263.663172</td>\n",
       "      <td>1.363015</td>\n",
       "      <td>95.221624</td>\n",
       "      <td>12.406112</td>\n",
       "      <td>2678.826162</td>\n",
       "    </tr>\n",
       "    <tr>\n",
       "      <th>std</th>\n",
       "      <td>7456.670694</td>\n",
       "      <td>7187.238670</td>\n",
       "      <td>7128.450439</td>\n",
       "      <td>208.874874</td>\n",
       "      <td>6.379377e+04</td>\n",
       "      <td>6.678594</td>\n",
       "      <td>0.491812</td>\n",
       "      <td>1.070219</td>\n",
       "      <td>22.020060</td>\n",
       "      <td>43.822529</td>\n",
       "      <td>...</td>\n",
       "      <td>375.172839</td>\n",
       "      <td>373.824457</td>\n",
       "      <td>9042.040766</td>\n",
       "      <td>8942.672613</td>\n",
       "      <td>7065.522127</td>\n",
       "      <td>2608.111964</td>\n",
       "      <td>7.289979</td>\n",
       "      <td>688.744771</td>\n",
       "      <td>148.671593</td>\n",
       "      <td>4447.136012</td>\n",
       "    </tr>\n",
       "    <tr>\n",
       "      <th>min</th>\n",
       "      <td>500.000000</td>\n",
       "      <td>500.000000</td>\n",
       "      <td>0.000000</td>\n",
       "      <td>15.690000</td>\n",
       "      <td>4.000000e+03</td>\n",
       "      <td>0.000000</td>\n",
       "      <td>0.000000</td>\n",
       "      <td>0.000000</td>\n",
       "      <td>0.000000</td>\n",
       "      <td>0.000000</td>\n",
       "      <td>...</td>\n",
       "      <td>0.000000</td>\n",
       "      <td>0.000000</td>\n",
       "      <td>0.000000</td>\n",
       "      <td>0.000000</td>\n",
       "      <td>0.000000</td>\n",
       "      <td>0.000000</td>\n",
       "      <td>0.000000</td>\n",
       "      <td>0.000000</td>\n",
       "      <td>0.000000</td>\n",
       "      <td>0.000000</td>\n",
       "    </tr>\n",
       "    <tr>\n",
       "      <th>25%</th>\n",
       "      <td>5500.000000</td>\n",
       "      <td>5400.000000</td>\n",
       "      <td>5000.000000</td>\n",
       "      <td>167.020000</td>\n",
       "      <td>4.040400e+04</td>\n",
       "      <td>8.170000</td>\n",
       "      <td>0.000000</td>\n",
       "      <td>0.000000</td>\n",
       "      <td>18.000000</td>\n",
       "      <td>22.000000</td>\n",
       "      <td>...</td>\n",
       "      <td>0.000000</td>\n",
       "      <td>0.000000</td>\n",
       "      <td>5576.930000</td>\n",
       "      <td>5112.310000</td>\n",
       "      <td>4600.000000</td>\n",
       "      <td>662.180000</td>\n",
       "      <td>0.000000</td>\n",
       "      <td>0.000000</td>\n",
       "      <td>0.000000</td>\n",
       "      <td>218.680000</td>\n",
       "    </tr>\n",
       "    <tr>\n",
       "      <th>50%</th>\n",
       "      <td>10000.000000</td>\n",
       "      <td>9600.000000</td>\n",
       "      <td>8975.000000</td>\n",
       "      <td>280.220000</td>\n",
       "      <td>5.900000e+04</td>\n",
       "      <td>13.400000</td>\n",
       "      <td>0.000000</td>\n",
       "      <td>1.000000</td>\n",
       "      <td>34.000000</td>\n",
       "      <td>90.000000</td>\n",
       "      <td>...</td>\n",
       "      <td>0.000000</td>\n",
       "      <td>0.000000</td>\n",
       "      <td>9899.640319</td>\n",
       "      <td>9287.150000</td>\n",
       "      <td>8000.000000</td>\n",
       "      <td>1348.910000</td>\n",
       "      <td>0.000000</td>\n",
       "      <td>0.000000</td>\n",
       "      <td>0.000000</td>\n",
       "      <td>546.140000</td>\n",
       "    </tr>\n",
       "    <tr>\n",
       "      <th>75%</th>\n",
       "      <td>15000.000000</td>\n",
       "      <td>15000.000000</td>\n",
       "      <td>14400.000000</td>\n",
       "      <td>430.780000</td>\n",
       "      <td>8.230000e+04</td>\n",
       "      <td>18.600000</td>\n",
       "      <td>0.000000</td>\n",
       "      <td>1.000000</td>\n",
       "      <td>52.000000</td>\n",
       "      <td>104.000000</td>\n",
       "      <td>...</td>\n",
       "      <td>0.000000</td>\n",
       "      <td>0.000000</td>\n",
       "      <td>16534.433040</td>\n",
       "      <td>15798.810000</td>\n",
       "      <td>13653.260000</td>\n",
       "      <td>2833.400000</td>\n",
       "      <td>0.000000</td>\n",
       "      <td>0.000000</td>\n",
       "      <td>0.000000</td>\n",
       "      <td>3293.160000</td>\n",
       "    </tr>\n",
       "    <tr>\n",
       "      <th>max</th>\n",
       "      <td>35000.000000</td>\n",
       "      <td>35000.000000</td>\n",
       "      <td>35000.000000</td>\n",
       "      <td>1305.190000</td>\n",
       "      <td>6.000000e+06</td>\n",
       "      <td>29.990000</td>\n",
       "      <td>11.000000</td>\n",
       "      <td>8.000000</td>\n",
       "      <td>120.000000</td>\n",
       "      <td>129.000000</td>\n",
       "      <td>...</td>\n",
       "      <td>6311.470000</td>\n",
       "      <td>6307.370000</td>\n",
       "      <td>58563.679930</td>\n",
       "      <td>58563.680000</td>\n",
       "      <td>35000.020000</td>\n",
       "      <td>23563.680000</td>\n",
       "      <td>180.200000</td>\n",
       "      <td>29623.350000</td>\n",
       "      <td>7002.190000</td>\n",
       "      <td>36115.200000</td>\n",
       "    </tr>\n",
       "  </tbody>\n",
       "</table>\n",
       "<p>8 rows × 24 columns</p>\n",
       "</div>"
      ],
      "text/plain": [
       "          loan_amnt   funded_amnt  funded_amnt_inv   installment  \\\n",
       "count  39717.000000  39717.000000     39717.000000  39717.000000   \n",
       "mean   11219.443815  10947.713196     10397.448868    324.561922   \n",
       "std     7456.670694   7187.238670      7128.450439    208.874874   \n",
       "min      500.000000    500.000000         0.000000     15.690000   \n",
       "25%     5500.000000   5400.000000      5000.000000    167.020000   \n",
       "50%    10000.000000   9600.000000      8975.000000    280.220000   \n",
       "75%    15000.000000  15000.000000     14400.000000    430.780000   \n",
       "max    35000.000000  35000.000000     35000.000000   1305.190000   \n",
       "\n",
       "         annual_inc           dti   delinq_2yrs  inq_last_6mths  \\\n",
       "count  3.971700e+04  39717.000000  39717.000000    39717.000000   \n",
       "mean   6.896893e+04     13.315130      0.146512        0.869200   \n",
       "std    6.379377e+04      6.678594      0.491812        1.070219   \n",
       "min    4.000000e+03      0.000000      0.000000        0.000000   \n",
       "25%    4.040400e+04      8.170000      0.000000        0.000000   \n",
       "50%    5.900000e+04     13.400000      0.000000        1.000000   \n",
       "75%    8.230000e+04     18.600000      0.000000        1.000000   \n",
       "max    6.000000e+06     29.990000     11.000000        8.000000   \n",
       "\n",
       "       mths_since_last_delinq  mths_since_last_record  ...     out_prncp  \\\n",
       "count            14035.000000             2786.000000  ...  39717.000000   \n",
       "mean                35.900962               69.698134  ...     51.227887   \n",
       "std                 22.020060               43.822529  ...    375.172839   \n",
       "min                  0.000000                0.000000  ...      0.000000   \n",
       "25%                 18.000000               22.000000  ...      0.000000   \n",
       "50%                 34.000000               90.000000  ...      0.000000   \n",
       "75%                 52.000000              104.000000  ...      0.000000   \n",
       "max                120.000000              129.000000  ...   6311.470000   \n",
       "\n",
       "       out_prncp_inv   total_pymnt  total_pymnt_inv  total_rec_prncp  \\\n",
       "count   39717.000000  39717.000000     39717.000000     39717.000000   \n",
       "mean       50.989768  12153.596544     11567.149118      9793.348813   \n",
       "std       373.824457   9042.040766      8942.672613      7065.522127   \n",
       "min         0.000000      0.000000         0.000000         0.000000   \n",
       "25%         0.000000   5576.930000      5112.310000      4600.000000   \n",
       "50%         0.000000   9899.640319      9287.150000      8000.000000   \n",
       "75%         0.000000  16534.433040     15798.810000     13653.260000   \n",
       "max      6307.370000  58563.679930     58563.680000     35000.020000   \n",
       "\n",
       "       total_rec_int  total_rec_late_fee    recoveries  \\\n",
       "count   39717.000000        39717.000000  39717.000000   \n",
       "mean     2263.663172            1.363015     95.221624   \n",
       "std      2608.111964            7.289979    688.744771   \n",
       "min         0.000000            0.000000      0.000000   \n",
       "25%       662.180000            0.000000      0.000000   \n",
       "50%      1348.910000            0.000000      0.000000   \n",
       "75%      2833.400000            0.000000      0.000000   \n",
       "max     23563.680000          180.200000  29623.350000   \n",
       "\n",
       "       collection_recovery_fee  last_pymnt_amnt  \n",
       "count             39717.000000     39717.000000  \n",
       "mean                 12.406112      2678.826162  \n",
       "std                 148.671593      4447.136012  \n",
       "min                   0.000000         0.000000  \n",
       "25%                   0.000000       218.680000  \n",
       "50%                   0.000000       546.140000  \n",
       "75%                   0.000000      3293.160000  \n",
       "max                7002.190000     36115.200000  \n",
       "\n",
       "[8 rows x 24 columns]"
      ]
     },
     "execution_count": 161,
     "metadata": {},
     "output_type": "execute_result"
    }
   ],
   "source": [
    "#checking distribution of data for all continuous columns\n",
    "loan.describe()"
   ]
  },
  {
   "cell_type": "code",
   "execution_count": 162,
   "id": "a2dcebbb",
   "metadata": {},
   "outputs": [],
   "source": [
    "#dropping columns where 25 & 75 percentile data is 0 or 1 , as imputing them with mean,median or mode will also result in 0\n",
    "loan.drop([\"out_prncp_inv\", \"delinq_2yrs\", \"out_prncp\", \"total_rec_late_fee\",\"inq_last_6mths\", \"recoveries\", \"collection_recovery_fee\",\"pub_rec\"], axis = 1, inplace = True)"
   ]
  },
  {
   "cell_type": "code",
   "execution_count": 163,
   "id": "8020220c",
   "metadata": {},
   "outputs": [
    {
     "data": {
      "text/plain": [
       "Index(['loan_amnt', 'funded_amnt', 'funded_amnt_inv', 'term', 'int_rate',\n",
       "       'installment', 'grade', 'sub_grade', 'emp_length', 'home_ownership',\n",
       "       'annual_inc', 'verification_status', 'issue_d', 'loan_status',\n",
       "       'purpose', 'dti', 'earliest_cr_line', 'mths_since_last_delinq',\n",
       "       'mths_since_last_record', 'open_acc', 'revol_bal', 'revol_util',\n",
       "       'total_acc', 'total_pymnt', 'total_pymnt_inv', 'total_rec_prncp',\n",
       "       'total_rec_int', 'last_pymnt_d', 'last_pymnt_amnt', 'next_pymnt_d',\n",
       "       'last_credit_pull_d'],\n",
       "      dtype='object')"
      ]
     },
     "execution_count": 163,
     "metadata": {},
     "output_type": "execute_result"
    }
   ],
   "source": [
    "# displaying list of all columns\n",
    "loan.columns"
   ]
  },
  {
   "cell_type": "code",
   "execution_count": 164,
   "id": "8a9f4cdd",
   "metadata": {},
   "outputs": [],
   "source": [
    "## Based on the data description available for the columns, out of the 32 columns above , there are few columns that have values corresponding post loan approval. Since our aim is to figure out the driving factors for loan approval or rejection so some of these post approval data columns wont add value to our analysis. Hence will be removing these columns\n",
    "# Dropping funded_amnt as the loan_amnt is the amount applied by applicant & funded_amnt _inv is the actual amount funded to the borrower, so funded_amnt won't have direct correlation to the analysis\n",
    "loan.drop([\"last_credit_pull_d\", \"total_pymnt_inv\", \"revol_bal\", \"total_pymnt\", \"total_rec_prncp\", \"total_rec_int\", \"last_pymnt_d\", \"last_pymnt_amnt\", \"next_pymnt_d\" , \"mths_since_last_delinq\", \"mths_since_last_record\",\"funded_amnt\"], axis = 1, inplace = True)"
   ]
  },
  {
   "cell_type": "code",
   "execution_count": 165,
   "id": "171abd59",
   "metadata": {},
   "outputs": [
    {
     "data": {
      "text/plain": [
       "(39717, 19)"
      ]
     },
     "execution_count": 165,
     "metadata": {},
     "output_type": "execute_result"
    }
   ],
   "source": [
    "loan.shape"
   ]
  },
  {
   "cell_type": "markdown",
   "id": "70ff52ba",
   "metadata": {},
   "source": [
    "## Checking missing values in the columns"
   ]
  },
  {
   "cell_type": "code",
   "execution_count": 166,
   "id": "22605074",
   "metadata": {},
   "outputs": [
    {
     "data": {
      "text/plain": [
       "loan_amnt              0.000000\n",
       "funded_amnt_inv        0.000000\n",
       "term                   0.000000\n",
       "int_rate               0.000000\n",
       "installment            0.000000\n",
       "grade                  0.000000\n",
       "sub_grade              0.000000\n",
       "emp_length             2.706650\n",
       "home_ownership         0.000000\n",
       "annual_inc             0.000000\n",
       "verification_status    0.000000\n",
       "issue_d                0.000000\n",
       "loan_status            0.000000\n",
       "purpose                0.000000\n",
       "dti                    0.000000\n",
       "earliest_cr_line       0.000000\n",
       "open_acc               0.000000\n",
       "revol_util             0.125891\n",
       "total_acc              0.000000\n",
       "dtype: float64"
      ]
     },
     "execution_count": 166,
     "metadata": {},
     "output_type": "execute_result"
    }
   ],
   "source": [
    "100*loan.isnull().mean()"
   ]
  },
  {
   "cell_type": "code",
   "execution_count": 167,
   "id": "53cc2062",
   "metadata": {},
   "outputs": [
    {
     "name": "stdout",
     "output_type": "stream",
     "text": [
      "['10+ years' '< 1 year' '1 year' '3 years' '8 years' '9 years' '4 years'\n",
      " '5 years' '6 years' '2 years' '7 years' nan]\n",
      "10+ years    8879\n",
      "< 1 year     4583\n",
      "2 years      4388\n",
      "3 years      4095\n",
      "4 years      3436\n",
      "5 years      3282\n",
      "1 year       3240\n",
      "6 years      2229\n",
      "7 years      1773\n",
      "8 years      1479\n",
      "9 years      1258\n",
      "Name: emp_length, dtype: int64\n"
     ]
    }
   ],
   "source": [
    "# As per above 'emp_length' & 'revol_util' columns have some missing values\n",
    "\n",
    "# Analysing 'emp_length' column\n",
    "\n",
    "print(loan['emp_length'].unique())\n",
    "print(loan['emp_length'].value_counts())"
   ]
  },
  {
   "cell_type": "code",
   "execution_count": 168,
   "id": "0d0e6cb7",
   "metadata": {},
   "outputs": [],
   "source": [
    "# imputing the nan values in 'emp_length' column with mode\n",
    "loan['emp_length'] = np.where(loan['emp_length'].isna(), loan['emp_length'].mode()[0] , loan['emp_length'])"
   ]
  },
  {
   "cell_type": "code",
   "execution_count": 169,
   "id": "2faf21ce",
   "metadata": {},
   "outputs": [
    {
     "name": "stdout",
     "output_type": "stream",
     "text": [
      "['83.70%' '9.40%' '98.50%' ... '49.63%' '0.04%' '7.28%']\n",
      "0%        977\n",
      "0.20%      63\n",
      "63%        62\n",
      "40.70%     58\n",
      "66.70%     58\n",
      "         ... \n",
      "25.74%      1\n",
      "47.36%      1\n",
      "24.65%      1\n",
      "10.61%      1\n",
      "7.28%       1\n",
      "Name: revol_util, Length: 1089, dtype: int64\n"
     ]
    }
   ],
   "source": [
    "# Analysing 'revol_util' column\n",
    "\n",
    "print(loan['revol_util'].unique())\n",
    "print(loan['revol_util'].value_counts())"
   ]
  },
  {
   "cell_type": "code",
   "execution_count": 170,
   "id": "bbfd8b41",
   "metadata": {},
   "outputs": [],
   "source": [
    "# imputing the nan values in 'revol_util' column with mode\n",
    "loan['revol_util'] = np.where(loan['revol_util'].isnull() , loan['revol_util'].mode()[0] , loan['revol_util'])"
   ]
  },
  {
   "cell_type": "markdown",
   "id": "c7813b20",
   "metadata": {},
   "source": [
    "### Formatting & Standardizing the data in columns"
   ]
  },
  {
   "cell_type": "code",
   "execution_count": 171,
   "id": "84ef49ae",
   "metadata": {},
   "outputs": [
    {
     "name": "stdout",
     "output_type": "stream",
     "text": [
      "<class 'pandas.core.frame.DataFrame'>\n",
      "RangeIndex: 39717 entries, 0 to 39716\n",
      "Data columns (total 19 columns):\n",
      " #   Column               Non-Null Count  Dtype  \n",
      "---  ------               --------------  -----  \n",
      " 0   loan_amnt            39717 non-null  int64  \n",
      " 1   funded_amnt_inv      39717 non-null  float64\n",
      " 2   term                 39717 non-null  object \n",
      " 3   int_rate             39717 non-null  object \n",
      " 4   installment          39717 non-null  float64\n",
      " 5   grade                39717 non-null  object \n",
      " 6   sub_grade            39717 non-null  object \n",
      " 7   emp_length           39717 non-null  object \n",
      " 8   home_ownership       39717 non-null  object \n",
      " 9   annual_inc           39717 non-null  float64\n",
      " 10  verification_status  39717 non-null  object \n",
      " 11  issue_d              39717 non-null  object \n",
      " 12  loan_status          39717 non-null  object \n",
      " 13  purpose              39717 non-null  object \n",
      " 14  dti                  39717 non-null  float64\n",
      " 15  earliest_cr_line     39717 non-null  object \n",
      " 16  open_acc             39717 non-null  int64  \n",
      " 17  revol_util           39717 non-null  object \n",
      " 18  total_acc            39717 non-null  int64  \n",
      "dtypes: float64(4), int64(3), object(12)\n",
      "memory usage: 5.8+ MB\n"
     ]
    }
   ],
   "source": [
    "# Checking type of data in the columns\n",
    "loan.info()"
   ]
  },
  {
   "cell_type": "markdown",
   "id": "f11782ea",
   "metadata": {},
   "source": [
    "#### As per the data dictionary provided 'int_rate','revol_util','emp_length' columns have countinuous data but are currently in Object dtype.\n",
    "#### Thus, analysing and formatting the data for these columns\n"
   ]
  },
  {
   "cell_type": "code",
   "execution_count": 172,
   "id": "09d59ac6",
   "metadata": {},
   "outputs": [
    {
     "data": {
      "text/plain": [
       "array(['10.65%', '15.27%', '15.96%', ..., '8.07%', '7.43%', '13.75%'],\n",
       "      dtype=object)"
      ]
     },
     "execution_count": 172,
     "metadata": {},
     "output_type": "execute_result"
    }
   ],
   "source": [
    "# Checking values of int_rate column\n",
    "loan['int_rate'].values\n"
   ]
  },
  {
   "cell_type": "code",
   "execution_count": 173,
   "id": "bc2194f8",
   "metadata": {},
   "outputs": [],
   "source": [
    "# Converting column int_rate to float\n",
    "loan['int_rate'] = loan['int_rate'].apply(lambda x : float(x.strip('%'))) "
   ]
  },
  {
   "cell_type": "code",
   "execution_count": 174,
   "id": "fc71a967",
   "metadata": {},
   "outputs": [],
   "source": [
    "# as checked earlier 'revol_util' also has '%' values so converting it to float\n",
    "loan['revol_util'] = loan['revol_util'].astype(str) #converting revol_util column to string datatype\n",
    "loan['revol_util'] = loan['revol_util'].apply(lambda x : float(x.strip('%')))"
   ]
  },
  {
   "cell_type": "code",
   "execution_count": 175,
   "id": "5b1e358d",
   "metadata": {},
   "outputs": [],
   "source": [
    "# as checked earlier 'emp_length' also has '<',\"+\",\"years\" values so standardizing & converting it to float\n",
    "loan['emp_length'] = loan['emp_length'].astype(str) #converting emp_length column to string datatype\n",
    "\n",
    "#writing a function to convert emp_length column to int by removing '<','+','years'\n",
    "\n",
    "def getDigitFromString(a):\n",
    "    digit = ''.join(filter(lambda x: x.isdigit(), a))\n",
    "    return int(digit)\n",
    "\n",
    "#applying above function to convert emp_length column to int:\n",
    "loan['emp_length'] = loan['emp_length'].apply(getDigitFromString)"
   ]
  },
  {
   "cell_type": "code",
   "execution_count": 176,
   "id": "c7c39bbf",
   "metadata": {
    "scrolled": true
   },
   "outputs": [
    {
     "data": {
      "text/html": [
       "<div>\n",
       "<style scoped>\n",
       "    .dataframe tbody tr th:only-of-type {\n",
       "        vertical-align: middle;\n",
       "    }\n",
       "\n",
       "    .dataframe tbody tr th {\n",
       "        vertical-align: top;\n",
       "    }\n",
       "\n",
       "    .dataframe thead th {\n",
       "        text-align: right;\n",
       "    }\n",
       "</style>\n",
       "<table border=\"1\" class=\"dataframe\">\n",
       "  <thead>\n",
       "    <tr style=\"text-align: right;\">\n",
       "      <th></th>\n",
       "      <th>loan_amnt</th>\n",
       "      <th>funded_amnt_inv</th>\n",
       "      <th>term</th>\n",
       "      <th>int_rate</th>\n",
       "      <th>installment</th>\n",
       "      <th>grade</th>\n",
       "      <th>sub_grade</th>\n",
       "      <th>emp_length</th>\n",
       "      <th>home_ownership</th>\n",
       "      <th>annual_inc</th>\n",
       "      <th>verification_status</th>\n",
       "      <th>issue_d</th>\n",
       "      <th>loan_status</th>\n",
       "      <th>purpose</th>\n",
       "      <th>dti</th>\n",
       "      <th>earliest_cr_line</th>\n",
       "      <th>open_acc</th>\n",
       "      <th>revol_util</th>\n",
       "      <th>total_acc</th>\n",
       "    </tr>\n",
       "  </thead>\n",
       "  <tbody>\n",
       "    <tr>\n",
       "      <th>0</th>\n",
       "      <td>5000</td>\n",
       "      <td>4975.0</td>\n",
       "      <td>36 months</td>\n",
       "      <td>10.65</td>\n",
       "      <td>162.87</td>\n",
       "      <td>B</td>\n",
       "      <td>B2</td>\n",
       "      <td>10</td>\n",
       "      <td>RENT</td>\n",
       "      <td>24000.0</td>\n",
       "      <td>Verified</td>\n",
       "      <td>Dec-11</td>\n",
       "      <td>Fully Paid</td>\n",
       "      <td>credit_card</td>\n",
       "      <td>27.65</td>\n",
       "      <td>Jan-85</td>\n",
       "      <td>3</td>\n",
       "      <td>83.7</td>\n",
       "      <td>9</td>\n",
       "    </tr>\n",
       "    <tr>\n",
       "      <th>1</th>\n",
       "      <td>2500</td>\n",
       "      <td>2500.0</td>\n",
       "      <td>60 months</td>\n",
       "      <td>15.27</td>\n",
       "      <td>59.83</td>\n",
       "      <td>C</td>\n",
       "      <td>C4</td>\n",
       "      <td>1</td>\n",
       "      <td>RENT</td>\n",
       "      <td>30000.0</td>\n",
       "      <td>Source Verified</td>\n",
       "      <td>Dec-11</td>\n",
       "      <td>Charged Off</td>\n",
       "      <td>car</td>\n",
       "      <td>1.00</td>\n",
       "      <td>Apr-99</td>\n",
       "      <td>3</td>\n",
       "      <td>9.4</td>\n",
       "      <td>4</td>\n",
       "    </tr>\n",
       "    <tr>\n",
       "      <th>2</th>\n",
       "      <td>2400</td>\n",
       "      <td>2400.0</td>\n",
       "      <td>36 months</td>\n",
       "      <td>15.96</td>\n",
       "      <td>84.33</td>\n",
       "      <td>C</td>\n",
       "      <td>C5</td>\n",
       "      <td>10</td>\n",
       "      <td>RENT</td>\n",
       "      <td>12252.0</td>\n",
       "      <td>Not Verified</td>\n",
       "      <td>Dec-11</td>\n",
       "      <td>Fully Paid</td>\n",
       "      <td>small_business</td>\n",
       "      <td>8.72</td>\n",
       "      <td>Nov-01</td>\n",
       "      <td>2</td>\n",
       "      <td>98.5</td>\n",
       "      <td>10</td>\n",
       "    </tr>\n",
       "    <tr>\n",
       "      <th>3</th>\n",
       "      <td>10000</td>\n",
       "      <td>10000.0</td>\n",
       "      <td>36 months</td>\n",
       "      <td>13.49</td>\n",
       "      <td>339.31</td>\n",
       "      <td>C</td>\n",
       "      <td>C1</td>\n",
       "      <td>10</td>\n",
       "      <td>RENT</td>\n",
       "      <td>49200.0</td>\n",
       "      <td>Source Verified</td>\n",
       "      <td>Dec-11</td>\n",
       "      <td>Fully Paid</td>\n",
       "      <td>other</td>\n",
       "      <td>20.00</td>\n",
       "      <td>Feb-96</td>\n",
       "      <td>10</td>\n",
       "      <td>21.0</td>\n",
       "      <td>37</td>\n",
       "    </tr>\n",
       "    <tr>\n",
       "      <th>4</th>\n",
       "      <td>3000</td>\n",
       "      <td>3000.0</td>\n",
       "      <td>60 months</td>\n",
       "      <td>12.69</td>\n",
       "      <td>67.79</td>\n",
       "      <td>B</td>\n",
       "      <td>B5</td>\n",
       "      <td>1</td>\n",
       "      <td>RENT</td>\n",
       "      <td>80000.0</td>\n",
       "      <td>Source Verified</td>\n",
       "      <td>Dec-11</td>\n",
       "      <td>Current</td>\n",
       "      <td>other</td>\n",
       "      <td>17.94</td>\n",
       "      <td>Jan-96</td>\n",
       "      <td>15</td>\n",
       "      <td>53.9</td>\n",
       "      <td>38</td>\n",
       "    </tr>\n",
       "  </tbody>\n",
       "</table>\n",
       "</div>"
      ],
      "text/plain": [
       "   loan_amnt  funded_amnt_inv        term  int_rate  installment grade  \\\n",
       "0       5000           4975.0   36 months     10.65       162.87     B   \n",
       "1       2500           2500.0   60 months     15.27        59.83     C   \n",
       "2       2400           2400.0   36 months     15.96        84.33     C   \n",
       "3      10000          10000.0   36 months     13.49       339.31     C   \n",
       "4       3000           3000.0   60 months     12.69        67.79     B   \n",
       "\n",
       "  sub_grade  emp_length home_ownership  annual_inc verification_status  \\\n",
       "0        B2          10           RENT     24000.0            Verified   \n",
       "1        C4           1           RENT     30000.0     Source Verified   \n",
       "2        C5          10           RENT     12252.0        Not Verified   \n",
       "3        C1          10           RENT     49200.0     Source Verified   \n",
       "4        B5           1           RENT     80000.0     Source Verified   \n",
       "\n",
       "  issue_d  loan_status         purpose    dti earliest_cr_line  open_acc  \\\n",
       "0  Dec-11   Fully Paid     credit_card  27.65           Jan-85         3   \n",
       "1  Dec-11  Charged Off             car   1.00           Apr-99         3   \n",
       "2  Dec-11   Fully Paid  small_business   8.72           Nov-01         2   \n",
       "3  Dec-11   Fully Paid           other  20.00           Feb-96        10   \n",
       "4  Dec-11      Current           other  17.94           Jan-96        15   \n",
       "\n",
       "   revol_util  total_acc  \n",
       "0        83.7          9  \n",
       "1         9.4          4  \n",
       "2        98.5         10  \n",
       "3        21.0         37  \n",
       "4        53.9         38  "
      ]
     },
     "execution_count": 176,
     "metadata": {},
     "output_type": "execute_result"
    }
   ],
   "source": [
    "loan.head()"
   ]
  },
  {
   "cell_type": "markdown",
   "id": "e97574f1",
   "metadata": {},
   "source": [
    "### As our goal is to identify the customers who are likely to default based on the given parameters or variables, so we will restrict our data set to only 'Fully Paid' and 'Charged Off' loan status as 'Current' loan status cases are not quite relevant for our analysis"
   ]
  },
  {
   "cell_type": "code",
   "execution_count": 177,
   "id": "2208c29b",
   "metadata": {},
   "outputs": [],
   "source": [
    "# removing 'Current' loan status from the data set\n",
    "loan = loan[loan['loan_status'] != 'Current']"
   ]
  },
  {
   "cell_type": "code",
   "execution_count": 178,
   "id": "b1cdc485",
   "metadata": {
    "scrolled": true
   },
   "outputs": [
    {
     "name": "stdout",
     "output_type": "stream",
     "text": [
      "<class 'pandas.core.frame.DataFrame'>\n",
      "Int64Index: 38577 entries, 0 to 39716\n",
      "Data columns (total 19 columns):\n",
      " #   Column               Non-Null Count  Dtype  \n",
      "---  ------               --------------  -----  \n",
      " 0   loan_amnt            38577 non-null  int64  \n",
      " 1   funded_amnt_inv      38577 non-null  float64\n",
      " 2   term                 38577 non-null  object \n",
      " 3   int_rate             38577 non-null  float64\n",
      " 4   installment          38577 non-null  float64\n",
      " 5   grade                38577 non-null  object \n",
      " 6   sub_grade            38577 non-null  object \n",
      " 7   emp_length           38577 non-null  int64  \n",
      " 8   home_ownership       38577 non-null  object \n",
      " 9   annual_inc           38577 non-null  float64\n",
      " 10  verification_status  38577 non-null  object \n",
      " 11  issue_d              38577 non-null  object \n",
      " 12  loan_status          38577 non-null  object \n",
      " 13  purpose              38577 non-null  object \n",
      " 14  dti                  38577 non-null  float64\n",
      " 15  earliest_cr_line     38577 non-null  object \n",
      " 16  open_acc             38577 non-null  int64  \n",
      " 17  revol_util           38577 non-null  float64\n",
      " 18  total_acc            38577 non-null  int64  \n",
      "dtypes: float64(6), int64(4), object(9)\n",
      "memory usage: 5.9+ MB\n"
     ]
    }
   ],
   "source": [
    "loan.info()"
   ]
  },
  {
   "cell_type": "code",
   "execution_count": 185,
   "id": "1bb1a0d9",
   "metadata": {},
   "outputs": [
    {
     "data": {
      "text/plain": [
       "19"
      ]
     },
     "execution_count": 185,
     "metadata": {},
     "output_type": "execute_result"
    }
   ],
   "source": [
    "# segmentation of continuous, categorical & date columns\n",
    "cont_cols = ['loan_amnt','funded_amnt_inv','installment','annual_inc','dti','open_acc','total_acc','int_rate','emp_length','revol_util']\n",
    "cat_cols = [\"term\",\"grade\",\"sub_grade\",\"home_ownership\",\"verification_status\",\"loan_status\",\"purpose\"]\n",
    "date_cols = [\"issue_d\",\"earliest_cr_line\"]\n",
    "len(cont_cols)+len(cat_cols)+len(date_cols) #checking if all columns are accounted for"
   ]
  },
  {
   "cell_type": "markdown",
   "id": "244f468a",
   "metadata": {},
   "source": [
    "### Checking outliers for continuous columns"
   ]
  },
  {
   "cell_type": "code",
   "execution_count": 186,
   "id": "d7b488f6",
   "metadata": {},
   "outputs": [
    {
     "name": "stdout",
     "output_type": "stream",
     "text": [
      "loan_amnt\n"
     ]
    },
    {
     "data": {
      "image/png": "[encoded data removed]",
      "text/plain": [
       "<Figure size 432x288 with 1 Axes>"
      ]
     },
     "metadata": {
      "needs_background": "light"
     },
     "output_type": "display_data"
    },
    {
     "name": "stdout",
     "output_type": "stream",
     "text": [
      "funded_amnt_inv\n"
     ]
    },
    {
     "data": {
      "image/png": "[encoded data removed]",
      "text/plain": [
       "<Figure size 432x288 with 1 Axes>"
      ]
     },
     "metadata": {
      "needs_background": "light"
     },
     "output_type": "display_data"
    },
    {
     "name": "stdout",
     "output_type": "stream",
     "text": [
      "installment\n"
     ]
    },
    {
     "data": {
      "image/png": "[encoded data removed]",
      "text/plain": [
       "<Figure size 432x288 with 1 Axes>"
      ]
     },
     "metadata": {
      "needs_background": "light"
     },
     "output_type": "display_data"
    },
    {
     "name": "stdout",
     "output_type": "stream",
     "text": [
      "annual_inc\n"
     ]
    },
    {
     "data": {
      "image/png": "[encoded data removed]",
      "text/plain": [
       "<Figure size 432x288 with 1 Axes>"
      ]
     },
     "metadata": {
      "needs_background": "light"
     },
     "output_type": "display_data"
    },
    {
     "name": "stdout",
     "output_type": "stream",
     "text": [
      "dti\n"
     ]
    },
    {
     "data": {
      "image/png": "[encoded data removed]",
      "text/plain": [
       "<Figure size 432x288 with 1 Axes>"
      ]
     },
     "metadata": {
      "needs_background": "light"
     },
     "output_type": "display_data"
    },
    {
     "name": "stdout",
     "output_type": "stream",
     "text": [
      "open_acc\n"
     ]
    },
    {
     "data": {
      "image/png": "[encoded data removed]",
      "text/plain": [
       "<Figure size 432x288 with 1 Axes>"
      ]
     },
     "metadata": {
      "needs_background": "light"
     },
     "output_type": "display_data"
    },
    {
     "name": "stdout",
     "output_type": "stream",
     "text": [
      "total_acc\n"
     ]
    },
    {
     "data": {
      "image/png": "[encoded data removed]",
      "text/plain": [
       "<Figure size 432x288 with 1 Axes>"
      ]
     },
     "metadata": {
      "needs_background": "light"
     },
     "output_type": "display_data"
    },
    {
     "name": "stdout",
     "output_type": "stream",
     "text": [
      "int_rate\n"
     ]
    },
    {
     "data": {
      "image/png": "[encoded data removed]",
      "text/plain": [
       "<Figure size 432x288 with 1 Axes>"
      ]
     },
     "metadata": {
      "needs_background": "light"
     },
     "output_type": "display_data"
    },
    {
     "name": "stdout",
     "output_type": "stream",
     "text": [
      "emp_length\n"
     ]
    },
    {
     "data": {
      "image/png": "[encoded data removed]",
      "text/plain": [
       "<Figure size 432x288 with 1 Axes>"
      ]
     },
     "metadata": {
      "needs_background": "light"
     },
     "output_type": "display_data"
    },
    {
     "name": "stdout",
     "output_type": "stream",
     "text": [
      "revol_util\n"
     ]
    },
    {
     "data": {
      "image/png": "[encoded data removed]",
      "text/plain": [
       "<Figure size 432x288 with 1 Axes>"
      ]
     },
     "metadata": {
      "needs_background": "light"
     },
     "output_type": "display_data"
    }
   ],
   "source": [
    "# checking loan_amnt column\n",
    "for i in cont_cols:\n",
    "    sns.boxplot(loan[i])\n",
    "    print(i)\n",
    "    plt.show()"
   ]
  },
  {
   "cell_type": "code",
   "execution_count": 187,
   "id": "6bd620a8",
   "metadata": {},
   "outputs": [
    {
     "data": {
      "text/plain": [
       "count     38577.000000\n",
       "mean      73269.191473\n",
       "std       43894.063898\n",
       "min        4000.000000\n",
       "25%       40000.000000\n",
       "50%       58868.000000\n",
       "75%       82000.000000\n",
       "max      145144.000000\n",
       "Name: annual_inc, dtype: float64"
      ]
     },
     "execution_count": 187,
     "metadata": {},
     "output_type": "execute_result"
    }
   ],
   "source": [
    "# As per the plots obtained above most of the outliers are quite continuous from the upper fence, so will be excluding the treatment of those ones\n",
    "\n",
    "# For 'annual_inc' there are wide range of outliers and this column is crucial in understanding the risk , so will be treating these outliers\n",
    "loan[\"annual_inc\"].describe()"
   ]
  },
  {
   "cell_type": "code",
   "execution_count": 188,
   "id": "ce4593a6",
   "metadata": {},
   "outputs": [],
   "source": [
    "annual_inc_q3 = 82000.000000\n",
    "annual_inc_q1 = 40000.000000\n",
    "annual_inc_IQR = annual_inc_q3 - annual_inc_q1\n",
    "annual_inc_UB = annual_inc_q3 + 1.5*annual_inc_IQR"
   ]
  },
  {
   "cell_type": "code",
   "execution_count": 189,
   "id": "71cdf28c",
   "metadata": {},
   "outputs": [],
   "source": [
    "loan['annual_inc'] = np.where(loan['annual_inc'] > annual_inc_q3, annual_inc_UB , loan['annual_inc'])"
   ]
  },
  {
   "cell_type": "code",
   "execution_count": 190,
   "id": "b7e2f132",
   "metadata": {
    "scrolled": true
   },
   "outputs": [
    {
     "data": {
      "text/plain": [
       "<AxesSubplot:>"
      ]
     },
     "execution_count": 190,
     "metadata": {},
     "output_type": "execute_result"
    },
    {
     "data": {
      "image/png": "[encoded data removed]",
      "text/plain": [
       "<Figure size 432x288 with 1 Axes>"
      ]
     },
     "metadata": {
      "needs_background": "light"
     },
     "output_type": "display_data"
    }
   ],
   "source": [
    "loan['annual_inc'].plot.box()"
   ]
  },
  {
   "cell_type": "markdown",
   "id": "c0f83bf3",
   "metadata": {},
   "source": [
    "### Analysing data for categorical variables"
   ]
  },
  {
   "cell_type": "code",
   "execution_count": 191,
   "id": "dd6ecb7e",
   "metadata": {
    "scrolled": true
   },
   "outputs": [
    {
     "name": "stdout",
     "output_type": "stream",
     "text": [
      "term\n",
      " 36 months    29096\n",
      " 60 months     9481\n",
      "Name: term, dtype: int64\n",
      "grade\n",
      "B    11675\n",
      "A    10045\n",
      "C     7834\n",
      "D     5085\n",
      "E     2663\n",
      "F      976\n",
      "G      299\n",
      "Name: grade, dtype: int64\n",
      "sub_grade\n",
      "A4    2873\n",
      "B3    2825\n",
      "A5    2715\n",
      "B5    2615\n",
      "B4    2437\n",
      "C1    2055\n",
      "B2    2001\n",
      "C2    1931\n",
      "A3    1810\n",
      "B1    1797\n",
      "A2    1508\n",
      "C3    1488\n",
      "D2    1286\n",
      "C4    1206\n",
      "C5    1154\n",
      "A1    1139\n",
      "D3    1116\n",
      "D1     931\n",
      "D4     918\n",
      "D5     834\n",
      "E1     722\n",
      "E2     614\n",
      "E3     516\n",
      "E4     424\n",
      "E5     387\n",
      "F1     305\n",
      "F2     233\n",
      "F3     174\n",
      "F4     151\n",
      "F5     113\n",
      "G1      94\n",
      "G2      77\n",
      "G4      54\n",
      "G3      45\n",
      "G5      29\n",
      "Name: sub_grade, dtype: int64\n",
      "home_ownership\n",
      "RENT        18480\n",
      "MORTGAGE    17021\n",
      "OWN          2975\n",
      "OTHER          98\n",
      "NONE            3\n",
      "Name: home_ownership, dtype: int64\n",
      "verification_status\n",
      "Not Verified       16694\n",
      "Verified           12206\n",
      "Source Verified     9677\n",
      "Name: verification_status, dtype: int64\n",
      "loan_status\n",
      "Fully Paid     32950\n",
      "Charged Off     5627\n",
      "Name: loan_status, dtype: int64\n",
      "purpose\n",
      "debt_consolidation    18055\n",
      "credit_card            5027\n",
      "other                  3865\n",
      "home_improvement       2875\n",
      "major_purchase         2150\n",
      "small_business         1754\n",
      "car                    1499\n",
      "wedding                 926\n",
      "medical                 681\n",
      "moving                  576\n",
      "vacation                375\n",
      "house                   367\n",
      "educational             325\n",
      "renewable_energy        102\n",
      "Name: purpose, dtype: int64\n"
     ]
    }
   ],
   "source": [
    "# listing the distribution of values for categorical columns\n",
    "for i in cat_cols:\n",
    "    print(i)\n",
    "    print(loan[i].value_counts())"
   ]
  },
  {
   "cell_type": "code",
   "execution_count": 192,
   "id": "9824bb7f",
   "metadata": {},
   "outputs": [],
   "source": [
    "# As from the abouve data we can understand that 'grade' and 'sub_grade' columns are related so we will format sub_grade column to include only int values \n",
    "loan['sub_grade'] = loan['sub_grade'].apply(lambda x : int(x[1]))"
   ]
  },
  {
   "cell_type": "code",
   "execution_count": 193,
   "id": "490bac2d",
   "metadata": {
    "scrolled": true
   },
   "outputs": [
    {
     "data": {
      "text/plain": [
       "4    8063\n",
       "3    7974\n",
       "5    7847\n",
       "2    7650\n",
       "1    7043\n",
       "Name: sub_grade, dtype: int64"
      ]
     },
     "execution_count": 193,
     "metadata": {},
     "output_type": "execute_result"
    }
   ],
   "source": [
    "#displaying sub_grade column values\n",
    "loan['sub_grade'].value_counts()"
   ]
  },
  {
   "cell_type": "code",
   "execution_count": 194,
   "id": "b8807de2",
   "metadata": {
    "scrolled": true
   },
   "outputs": [
    {
     "data": {
      "text/html": [
       "<div>\n",
       "<style scoped>\n",
       "    .dataframe tbody tr th:only-of-type {\n",
       "        vertical-align: middle;\n",
       "    }\n",
       "\n",
       "    .dataframe tbody tr th {\n",
       "        vertical-align: top;\n",
       "    }\n",
       "\n",
       "    .dataframe thead th {\n",
       "        text-align: right;\n",
       "    }\n",
       "</style>\n",
       "<table border=\"1\" class=\"dataframe\">\n",
       "  <thead>\n",
       "    <tr style=\"text-align: right;\">\n",
       "      <th></th>\n",
       "      <th>loan_amnt</th>\n",
       "      <th>funded_amnt_inv</th>\n",
       "      <th>term</th>\n",
       "      <th>int_rate</th>\n",
       "      <th>installment</th>\n",
       "      <th>grade</th>\n",
       "      <th>sub_grade</th>\n",
       "      <th>emp_length</th>\n",
       "      <th>home_ownership</th>\n",
       "      <th>annual_inc</th>\n",
       "      <th>verification_status</th>\n",
       "      <th>issue_d</th>\n",
       "      <th>loan_status</th>\n",
       "      <th>purpose</th>\n",
       "      <th>dti</th>\n",
       "      <th>earliest_cr_line</th>\n",
       "      <th>open_acc</th>\n",
       "      <th>revol_util</th>\n",
       "      <th>total_acc</th>\n",
       "    </tr>\n",
       "  </thead>\n",
       "  <tbody>\n",
       "    <tr>\n",
       "      <th>39318</th>\n",
       "      <td>10000</td>\n",
       "      <td>1228.06</td>\n",
       "      <td>36 months</td>\n",
       "      <td>7.75</td>\n",
       "      <td>312.22</td>\n",
       "      <td>A</td>\n",
       "      <td>3</td>\n",
       "      <td>5</td>\n",
       "      <td>NONE</td>\n",
       "      <td>22200.0</td>\n",
       "      <td>Not Verified</td>\n",
       "      <td>Jan-08</td>\n",
       "      <td>Fully Paid</td>\n",
       "      <td>debt_consolidation</td>\n",
       "      <td>5.24</td>\n",
       "      <td>Apr-94</td>\n",
       "      <td>9</td>\n",
       "      <td>8.7</td>\n",
       "      <td>22</td>\n",
       "    </tr>\n",
       "    <tr>\n",
       "      <th>39659</th>\n",
       "      <td>4000</td>\n",
       "      <td>1925.00</td>\n",
       "      <td>36 months</td>\n",
       "      <td>9.64</td>\n",
       "      <td>128.41</td>\n",
       "      <td>B</td>\n",
       "      <td>4</td>\n",
       "      <td>1</td>\n",
       "      <td>NONE</td>\n",
       "      <td>145000.0</td>\n",
       "      <td>Not Verified</td>\n",
       "      <td>Aug-07</td>\n",
       "      <td>Fully Paid</td>\n",
       "      <td>other</td>\n",
       "      <td>15.00</td>\n",
       "      <td>May-99</td>\n",
       "      <td>6</td>\n",
       "      <td>14.9</td>\n",
       "      <td>8</td>\n",
       "    </tr>\n",
       "    <tr>\n",
       "      <th>39660</th>\n",
       "      <td>2800</td>\n",
       "      <td>1625.00</td>\n",
       "      <td>36 months</td>\n",
       "      <td>8.70</td>\n",
       "      <td>88.65</td>\n",
       "      <td>B</td>\n",
       "      <td>1</td>\n",
       "      <td>1</td>\n",
       "      <td>NONE</td>\n",
       "      <td>145000.0</td>\n",
       "      <td>Not Verified</td>\n",
       "      <td>Aug-07</td>\n",
       "      <td>Fully Paid</td>\n",
       "      <td>other</td>\n",
       "      <td>15.00</td>\n",
       "      <td>May-99</td>\n",
       "      <td>6</td>\n",
       "      <td>14.9</td>\n",
       "      <td>8</td>\n",
       "    </tr>\n",
       "  </tbody>\n",
       "</table>\n",
       "</div>"
      ],
      "text/plain": [
       "       loan_amnt  funded_amnt_inv        term  int_rate  installment grade  \\\n",
       "39318      10000          1228.06   36 months      7.75       312.22     A   \n",
       "39659       4000          1925.00   36 months      9.64       128.41     B   \n",
       "39660       2800          1625.00   36 months      8.70        88.65     B   \n",
       "\n",
       "       sub_grade  emp_length home_ownership  annual_inc verification_status  \\\n",
       "39318          3           5           NONE     22200.0        Not Verified   \n",
       "39659          4           1           NONE    145000.0        Not Verified   \n",
       "39660          1           1           NONE    145000.0        Not Verified   \n",
       "\n",
       "      issue_d loan_status             purpose    dti earliest_cr_line  \\\n",
       "39318  Jan-08  Fully Paid  debt_consolidation   5.24           Apr-94   \n",
       "39659  Aug-07  Fully Paid               other  15.00           May-99   \n",
       "39660  Aug-07  Fully Paid               other  15.00           May-99   \n",
       "\n",
       "       open_acc  revol_util  total_acc  \n",
       "39318         9         8.7         22  \n",
       "39659         6        14.9          8  \n",
       "39660         6        14.9          8  "
      ]
     },
     "execution_count": 194,
     "metadata": {},
     "output_type": "execute_result"
    }
   ],
   "source": [
    "# checking home_ownership column for NONE values as according to data dictionary values are expected to be RENT, MORTGAGE,OWN & OTHER\n",
    "loan[loan['home_ownership'] == 'NONE']"
   ]
  },
  {
   "cell_type": "code",
   "execution_count": 195,
   "id": "1ee11537",
   "metadata": {},
   "outputs": [],
   "source": [
    "## Since home_ownership data is not available for these rows we will impute it as OTHER.\n",
    "loan['home_ownership'] = np.where(loan['home_ownership'] == 'NONE', 'OTHER', loan['home_ownership'])"
   ]
  },
  {
   "cell_type": "markdown",
   "id": "c2519218",
   "metadata": {},
   "source": [
    "### Analysing data for Date columns"
   ]
  },
  {
   "cell_type": "code",
   "execution_count": 196,
   "id": "d4fd4088",
   "metadata": {
    "scrolled": true
   },
   "outputs": [
    {
     "name": "stdout",
     "output_type": "stream",
     "text": [
      "issue_d Nov-11    2062\n",
      "Dec-11    2042\n",
      "Oct-11    1941\n",
      "Sep-11    1913\n",
      "Aug-11    1798\n",
      "Jul-11    1745\n",
      "Jun-11    1728\n",
      "May-11    1609\n",
      "Apr-11    1559\n",
      "Mar-11    1442\n",
      "Jan-11    1380\n",
      "Feb-11    1297\n",
      "Dec-10    1267\n",
      "Oct-10    1132\n",
      "Nov-10    1121\n",
      "Jul-10    1119\n",
      "Sep-10    1086\n",
      "Aug-10    1078\n",
      "Jun-10    1029\n",
      "May-10     920\n",
      "Apr-10     827\n",
      "Mar-10     737\n",
      "Feb-10     627\n",
      "Nov-09     602\n",
      "Dec-09     598\n",
      "Jan-10     589\n",
      "Oct-09     545\n",
      "Sep-09     449\n",
      "Aug-09     408\n",
      "Jul-09     374\n",
      "Jun-09     356\n",
      "May-09     319\n",
      "Apr-09     290\n",
      "Mar-09     276\n",
      "Feb-09     260\n",
      "Jan-09     239\n",
      "Mar-08     236\n",
      "Dec-08     223\n",
      "Nov-08     184\n",
      "Feb-08     174\n",
      "Jan-08     171\n",
      "Apr-08     155\n",
      "Oct-08      96\n",
      "Dec-07      85\n",
      "Jul-08      83\n",
      "May-08      71\n",
      "Aug-08      71\n",
      "Jun-08      66\n",
      "Oct-07      47\n",
      "Nov-07      37\n",
      "Aug-07      33\n",
      "Sep-08      32\n",
      "Jul-07      30\n",
      "Sep-07      18\n",
      "Jun-07       1\n",
      "Name: issue_d, dtype: int64\n",
      "earliest_cr_line Oct-99    360\n",
      "Nov-98    357\n",
      "Oct-00    341\n",
      "Dec-98    340\n",
      "Dec-97    318\n",
      "         ... \n",
      "Nov-65      1\n",
      "Feb-73      1\n",
      "Oct-08      1\n",
      "Dec-61      1\n",
      "Oct-74      1\n",
      "Name: earliest_cr_line, Length: 524, dtype: int64\n"
     ]
    }
   ],
   "source": [
    "for i in date_cols:\n",
    "    print(i , loan[i].value_counts())"
   ]
  },
  {
   "cell_type": "code",
   "execution_count": 197,
   "id": "abee94bd",
   "metadata": {},
   "outputs": [],
   "source": [
    "# As we have continuous records in the issue_d column for months atrting 2007 till 2011. Formatting the issue_d column for further analysis\n",
    "\n",
    "loan['issue_d'] = loan['issue_d'].apply(lambda x : x.split('-'))\n"
   ]
  },
  {
   "cell_type": "code",
   "execution_count": 203,
   "id": "0dd8552d",
   "metadata": {},
   "outputs": [],
   "source": [
    "# adding a new columns for issue month & issue year\n",
    "loan['issue_mnth'] = loan['issue_d'].apply(lambda x : x[0])\n",
    "loan['issue_year'] = loan['issue_d'].apply(lambda x : int('20'+ x[1]))"
   ]
  },
  {
   "cell_type": "code",
   "execution_count": 207,
   "id": "7db0d049",
   "metadata": {},
   "outputs": [],
   "source": [
    "# Similarly formatting the earliest_cr_line column for further analysis\n",
    "loan['earliest_cr_line'] = loan['earliest_cr_line'].apply(lambda x : x.split('-'))\n",
    "\n",
    "# adding a new columns for earliest_cr_line month & earliest_cr_line year\n",
    "loan['earliest_cr_line_mnth'] = loan['earliest_cr_line'].apply(lambda x : x[0])\n",
    "loan['earliest_cr_line_yr'] = loan['earliest_cr_line'].apply(lambda x : int('20'+ x[1]) if int(x[1]) <= 11 else int('19'+ x[1]))"
   ]
  },
  {
   "cell_type": "markdown",
   "id": "4070cbfe",
   "metadata": {},
   "source": [
    "## Univariate Analysis"
   ]
  },
  {
   "cell_type": "code",
   "execution_count": 215,
   "id": "4a507dfc",
   "metadata": {},
   "outputs": [
    {
     "data": {
      "image/png": "[encoded data removed]",
      "text/plain": [
       "<Figure size 720x576 with 1 Axes>"
      ]
     },
     "metadata": {
      "needs_background": "light"
     },
     "output_type": "display_data"
    },
    {
     "data": {
      "image/png": "[encoded data removed]",
      "text/plain": [
       "<Figure size 720x576 with 1 Axes>"
      ]
     },
     "metadata": {
      "needs_background": "light"
     },
     "output_type": "display_data"
    },
    {
     "data": {
      "image/png": "[encoded data removed]",
      "text/plain": [
       "<Figure size 720x576 with 1 Axes>"
      ]
     },
     "metadata": {
      "needs_background": "light"
     },
     "output_type": "display_data"
    },
    {
     "data": {
      "image/png": "[encoded data removed]",
      "text/plain": [
       "<Figure size 720x576 with 1 Axes>"
      ]
     },
     "metadata": {
      "needs_background": "light"
     },
     "output_type": "display_data"
    },
    {
     "data": {
      "image/png": "[encoded data removed]",
      "text/plain": [
       "<Figure size 720x576 with 1 Axes>"
      ]
     },
     "metadata": {
      "needs_background": "light"
     },
     "output_type": "display_data"
    },
    {
     "data": {
      "image/png": "[encoded data removed]",
      "text/plain": [
       "<Figure size 720x576 with 1 Axes>"
      ]
     },
     "metadata": {
      "needs_background": "light"
     },
     "output_type": "display_data"
    },
    {
     "data": {
      "image/png": "[encoded data removed]",
      "text/plain": [
       "<Figure size 720x576 with 1 Axes>"
      ]
     },
     "metadata": {
      "needs_background": "light"
     },
     "output_type": "display_data"
    }
   ],
   "source": [
    "# Plotting countplots for all categorical columns\n",
    "for i in cat_cols:\n",
    "    plt.figure(figsize = (10,8))\n",
    "    sns.countplot(loan[i])\n",
    "    plt.title(\"Countplot for \"+i)\n",
    "    plt.xticks(rotation=90)\n",
    "    plt.show()\n",
    "    "
   ]
  },
  {
   "cell_type": "markdown",
   "id": "4709ca7d",
   "metadata": {},
   "source": [
    "## Insights : As we can view from the above plot\n",
    "1. term : The data corresponding to loan tenure of 36 months is almost double of that for 60 months\n",
    "2. grade : Grades 'B','A' & 'C' are highest respectively follwed by 'D', whereas 'E' and 'F' account for very minor portion of the data\n",
    "3. home_ownership : Maximum records correspond to RENT follwed by MORTGAGE, OWN and OTHER are very least in the dataset\n",
    "4. verification_status: Most of the loan approved falls under Not_Verifed category, wheras verified and source_verifed are quite close in numbers\n",
    "5. loan_status: Most of the records correspond to Fully Paid status while we have around only 5k records for Charged Off\n",
    "6. purpose : debt_consolidation appears to be the main purpose for the applicants."
   ]
  },
  {
   "cell_type": "code",
   "execution_count": null,
   "id": "31456048",
   "metadata": {},
   "outputs": [],
   "source": [
    "#plotting histogram plots for continuous columns\n",
    "\n",
    "#Since we have a wide range of data available for continuous columns , so will apply the binning of data for better revelation and insights\n",
    "\n"
   ]
  }
 ],
 "metadata": {
  "kernelspec": {
   "display_name": "Python 3 (ipykernel)",
   "language": "python",
   "name": "python3"
  },
  "language_info": {
   "codemirror_mode": {
    "name": "ipython",
    "version": 3
   },
   "file_extension": ".py",
   "mimetype": "text/x-python",
   "name": "python",
   "nbconvert_exporter": "python",
   "pygments_lexer": "ipython3",
   "version": "3.9.7"
  }
 },
 "nbformat": 4,
 "nbformat_minor": 5
}
